{
 "cells": [
  {
   "cell_type": "code",
   "execution_count": 2,
   "metadata": {},
   "outputs": [],
   "source": [
    "with open('input.txt') as f:\n",
    "    text = f.read().splitlines()"
   ]
  },
  {
   "cell_type": "code",
   "execution_count": 4,
   "metadata": {},
   "outputs": [],
   "source": [
    "small_test = \"\"\"Game 1: 3 blue, 4 red; 1 red, 2 green, 6 blue; 2 green\n",
    "Game 2: 1 blue, 2 green; 3 green, 4 blue, 1 red; 1 green, 1 blue\n",
    "Game 3: 8 green, 6 blue, 20 red; 5 blue, 4 red, 13 green; 5 green, 1 red\n",
    "Game 4: 1 green, 3 red, 6 blue; 3 green, 6 red; 3 green, 15 blue, 14 red\n",
    "Game 5: 6 red, 1 blue, 3 green; 2 blue, 1 red, 2 green\"\"\""
   ]
  },
  {
   "cell_type": "markdown",
   "metadata": {},
   "source": [
    "## part 1"
   ]
  },
  {
   "cell_type": "code",
   "execution_count": 16,
   "metadata": {},
   "outputs": [],
   "source": [
    "rgb_max = {'red': 12, 'green': 13, 'blue': 14}"
   ]
  },
  {
   "cell_type": "code",
   "execution_count": 32,
   "metadata": {},
   "outputs": [
    {
     "data": {
      "text/plain": [
       "2006"
      ]
     },
     "execution_count": 32,
     "metadata": {},
     "output_type": "execute_result"
    }
   ],
   "source": [
    "sum_of_games = 0\n",
    "# for line in small_test.split('\\n'):\n",
    "for line in text:\n",
    "    success = True\n",
    "    game_num = int(line.split(': ')[0].split('Game ')[1])\n",
    "    game_vars = [{j.split(' ')[1]: int(j.split(' ')[0]) for j in i.split(', ')} for i in line.split(': ')[1].split('; ')]\n",
    "    for var in game_vars:\n",
    "        if not (var.get('red', 0)<=rgb_max['red'])&(var.get('green', 0)<=rgb_max['green'])&(var.get('blue', 0)<=rgb_max['blue']): \n",
    "            success = False\n",
    "            break\n",
    "    if success:\n",
    "        sum_of_games += game_num\n",
    "sum_of_games\n",
    "    # print(game_num, game_vars)"
   ]
  },
  {
   "cell_type": "markdown",
   "metadata": {},
   "source": [
    "## part 2"
   ]
  },
  {
   "cell_type": "code",
   "execution_count": 33,
   "metadata": {},
   "outputs": [
    {
     "data": {
      "text/plain": [
       "84911"
      ]
     },
     "execution_count": 33,
     "metadata": {},
     "output_type": "execute_result"
    }
   ],
   "source": [
    "power_of_games = 0\n",
    "# for line in small_test.split('\\n'):\n",
    "for line in text:\n",
    "    game_num = int(line.split(': ')[0].split('Game ')[1])\n",
    "    game_vars = [{j.split(' ')[1]: int(j.split(' ')[0]) for j in i.split(', ')} for i in line.split(': ')[1].split('; ')]\n",
    "    cur_run = {'green': 0, 'red': 0, 'blue': 0}\n",
    "    for var in game_vars:\n",
    "        cur_run['red'] = max(var.get('red', 0), cur_run['red'])\n",
    "        cur_run['green'] = max(var.get('green', 0), cur_run['green'])\n",
    "        cur_run['blue'] = max(var.get('blue', 0), cur_run['blue'])\n",
    "    power_of_games += cur_run['red']*cur_run['green']*cur_run['blue']\n",
    "power_of_games\n",
    "    # print(game_num, game_vars)"
   ]
  },
  {
   "cell_type": "code",
   "execution_count": null,
   "metadata": {},
   "outputs": [],
   "source": []
  }
 ],
 "metadata": {
  "kernelspec": {
   "display_name": "data-science",
   "language": "python",
   "name": "python3"
  },
  "language_info": {
   "codemirror_mode": {
    "name": "ipython",
    "version": 3
   },
   "file_extension": ".py",
   "mimetype": "text/x-python",
   "name": "python",
   "nbconvert_exporter": "python",
   "pygments_lexer": "ipython3",
   "version": "3.12.0"
  }
 },
 "nbformat": 4,
 "nbformat_minor": 2
}
