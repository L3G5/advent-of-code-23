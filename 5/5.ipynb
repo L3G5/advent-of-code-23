{
 "cells": [
  {
   "cell_type": "code",
   "execution_count": 41,
   "metadata": {},
   "outputs": [],
   "source": [
    "with open('input.txt') as f:\n",
    "    text = f.read()"
   ]
  },
  {
   "cell_type": "code",
   "execution_count": 42,
   "metadata": {},
   "outputs": [],
   "source": [
    "with open('test.txt') as f:\n",
    "    text_test = f.read()"
   ]
  },
  {
   "cell_type": "markdown",
   "metadata": {},
   "source": [
    "## part 1"
   ]
  },
  {
   "cell_type": "code",
   "execution_count": 47,
   "metadata": {},
   "outputs": [],
   "source": [
    "class MyDict:\n",
    "    def __init__(self, src, dest, length) -> None:\n",
    "        self.src = src\n",
    "        self.dest = dest\n",
    "        self.length = length\n",
    "    def query_member(self, mem):\n",
    "        if (mem >= self.src) & (mem < self.src + self.length):\n",
    "            return self.dest + (mem - self.src)\n",
    "        return mem\n",
    "    \n",
    "def map_str_to_range(s: str):\n",
    "    dest, src, length = [int(i) for i in s.split()] \n",
    "    return {range(src, src+length):range(dest, dest+length)}\n",
    "\n",
    "def map_range_to_dict(s: str):\n",
    "    dest, src, length = [int(i) for i in s.split()] \n",
    "    return MyDict(src=src, dest=dest, length=length)\n",
    "\n",
    "def get_from_MyDicts(dictionary_list, value):\n",
    "    sub_result = list(set([i.query_member(value) for i in dictionary_list]).difference({value,}))\n",
    "    if len(sub_result) == 1:\n",
    "        return sub_result[0]\n",
    "    return value\n",
    "\n",
    "def map_all(seed, data_mappings):\n",
    "    return get_from_MyDicts(\n",
    "        data_mappings['humidity-to-location map'],\n",
    "        get_from_MyDicts(\n",
    "            data_mappings['temperature-to-humidity map'],\n",
    "            get_from_MyDicts(\n",
    "                data_mappings['light-to-temperature map'],\n",
    "                get_from_MyDicts(\n",
    "                    data_mappings['water-to-light map'],\n",
    "                    get_from_MyDicts(\n",
    "                        data_mappings['fertilizer-to-water map'],\n",
    "                        get_from_MyDicts(\n",
    "                            data_mappings['soil-to-fertilizer map'],\n",
    "                            get_from_MyDicts(\n",
    "                                    data_mappings['seed-to-soil map'],\n",
    "                                    seed\n",
    "                            )\n",
    "                        )\n",
    "                    )\n",
    "                    )\n",
    "            )\n",
    "        )\n",
    "    )"
   ]
  },
  {
   "cell_type": "code",
   "execution_count": 67,
   "metadata": {},
   "outputs": [
    {
     "data": {
      "text/plain": [
       "178159714"
      ]
     },
     "execution_count": 67,
     "metadata": {},
     "output_type": "execute_result"
    }
   ],
   "source": [
    "def solution_1(text):\n",
    "    data = {i.split(':')[0]: i.split(':')[1].strip('\\n').split('\\n') for i in text.split('\\n\\n')}\n",
    "    seeds = [int(i) for i in data['seeds'][0].split()]\n",
    "    data_mappings = {}\n",
    "    for key in data.keys():\n",
    "        if key == 'seeds': continue\n",
    "        data_mappings[key] = [map_range_to_dict(s) for s in data[key]]\n",
    "    return min([map_all(s, data_mappings) for s in seeds])\n",
    "\n",
    "solution_1(text)"
   ]
  },
  {
   "cell_type": "markdown",
   "metadata": {},
   "source": [
    "## part 2"
   ]
  },
  {
   "cell_type": "code",
   "execution_count": 48,
   "metadata": {},
   "outputs": [
    {
     "data": {
      "text/plain": [
       "[{range(50, 98): range(52, 100), range(98, 100): range(50, 52)},\n",
       " {range(0, 15): range(39, 54),\n",
       "  range(15, 52): range(0, 37),\n",
       "  range(52, 54): range(37, 39)},\n",
       " {range(0, 7): range(42, 49),\n",
       "  range(7, 11): range(57, 61),\n",
       "  range(11, 53): range(0, 42),\n",
       "  range(53, 61): range(49, 57)},\n",
       " {range(18, 25): range(88, 95), range(25, 95): range(18, 88)},\n",
       " {range(45, 64): range(81, 100),\n",
       "  range(64, 77): range(68, 81),\n",
       "  range(77, 100): range(45, 68)},\n",
       " {range(0, 69): range(1, 70), range(69, 70): range(0, 1)},\n",
       " {range(56, 93): range(60, 97), range(93, 97): range(56, 60)}]"
      ]
     },
     "execution_count": 48,
     "metadata": {},
     "output_type": "execute_result"
    }
   ],
   "source": [
    "from collections import ChainMap\n",
    "data = {i.split(':')[0]: i.split(':')[1].strip('\\n').split('\\n') for i in text_test.split('\\n\\n')}\n",
    "seeds = [int(i) for i in data['seeds'][0].split()]\n",
    "seed_ranges = []\n",
    "for i in range(0, len(seeds), 2):\n",
    "    seed_ranges.append(range(seeds[i], seeds[i]+seeds[i+1])) \n",
    "data_mappings = []\n",
    "for key in data.keys():\n",
    "    if key == 'seeds': continue\n",
    "    data_mappings.append(\n",
    "        dict(ChainMap(*sorted([map_str_to_range(s) for s in data[key]], key = lambda x: list(x.keys())[0].start, reverse=True)))\n",
    "        )\n",
    "data_mappings"
   ]
  },
  {
   "cell_type": "code",
   "execution_count": 74,
   "metadata": {},
   "outputs": [
    {
     "data": {
      "text/plain": [
       "[range(7, 8)]"
      ]
     },
     "execution_count": 74,
     "metadata": {},
     "output_type": "execute_result"
    }
   ],
   "source": [
    "def split_range(src: range, maps: list[range]) -> list[range] :\n",
    "    \"\"\"\n",
    "    Splits the source range into subranges according to the other ranges.\n",
    "\n",
    "    The other ranges are expected to be non-overlapping and to be contained\n",
    "    within the source range.\n",
    "\n",
    "    Args:\n",
    "        src: A range object.\n",
    "        maps: A list of range objects.\n",
    "\n",
    "    Returns:\n",
    "        A list of range objects.\n",
    "    \n",
    "    Example: split_ranges(range(0, 10), [range(2,4), range(6,9)]) == [range(0,2), range(2,4), range(4, 6), range(6,9), range(9,10)]\n",
    "    \"\"\"\n",
    "\n",
    "    result = []\n",
    "    current_range = src\n",
    "    for other_range in maps:\n",
    "        if current_range.stop < other_range.start:\n",
    "            result.append(current_range)\n",
    "            current_range = None\n",
    "            break\n",
    "        elif current_range.start >= other_range.stop:\n",
    "            pass\n",
    "        elif current_range.start >= other_range.start:\n",
    "            if current_range.stop >= other_range.stop:\n",
    "                result.append(range(current_range.start, other_range.stop))\n",
    "                current_range = range(other_range.stop, current_range.stop)\n",
    "            else:\n",
    "                result.append(range(current_range.start, current_range.stop))\n",
    "                current_range = None\n",
    "                break\n",
    "        else:\n",
    "            result.append(range(current_range.start, other_range.start))\n",
    "            if current_range.stop < other_range.stop:\n",
    "                result.append(range(other_range.start, current_range.stop))\n",
    "                current_range = None\n",
    "                break\n",
    "            else:\n",
    "                result.append(range(other_range.start, other_range.stop))\n",
    "                current_range = range(other_range.stop, current_range.stop)\n",
    "    if current_range: result.append(current_range)\n",
    "    return result\n",
    "\n",
    "def split_range_and_map(src: range, maps: dict) -> list[range] :\n",
    "    \"\"\"\n",
    "    Splits the source range into subranges according to the other ranges.\n",
    "\n",
    "    The other ranges are expected to be non-overlapping and to be contained\n",
    "    within the source range.\n",
    "\n",
    "    Args:\n",
    "        src: A range object.\n",
    "        maps: A list of range objects.\n",
    "\n",
    "    Returns:\n",
    "        A list of range objects.\n",
    "    \n",
    "    Example: split_ranges(range(0, 10), [range(2,4), range(6,9)]) == [range(0,2), range(2,4), range(4, 6), range(6,9), range(9,10)]\n",
    "    \"\"\"\n",
    "\n",
    "    result = []\n",
    "    current_range = src\n",
    "    for other_range, other_dest in maps.items():\n",
    "        if current_range.stop < other_range.start:\n",
    "            result.append(current_range)\n",
    "            current_range = None\n",
    "            break\n",
    "        elif current_range.start >= other_range.stop:\n",
    "            pass\n",
    "        elif current_range.start >= other_range.start:\n",
    "            if current_range.stop >= other_range.stop:\n",
    "                result.append(range(other_dest.start+current_range.start-other_range.start, other_dest.stop))\n",
    "                current_range = range(other_range.stop, current_range.stop)\n",
    "            else:\n",
    "                result.append(range(other_dest.start+current_range.start-other_range.start, other_dest.start+current_range.stop-other_range.start))\n",
    "                current_range = None\n",
    "                break\n",
    "        else:\n",
    "            result.append(range(current_range.start, other_range.start))\n",
    "            if current_range.stop < other_range.stop:\n",
    "                result.append(range(other_dest.start, other_dest.start+current_range.stop-other_range.start))\n",
    "                current_range = None\n",
    "                break\n",
    "            else:\n",
    "                result.append(range(other_dest.start, other_dest.stop))\n",
    "                current_range = range(other_range.stop, current_range.stop)\n",
    "    if current_range: result.append(current_range)\n",
    "    return result\n",
    "\n",
    "\n",
    "source_range = range(7, 8)\n",
    "other_ranges = [range(2, 4), range(6, 9)]\n",
    "split_range(source_range, other_ranges)"
   ]
  },
  {
   "cell_type": "code",
   "execution_count": 96,
   "metadata": {},
   "outputs": [
    {
     "data": {
      "text/plain": [
       "100165128"
      ]
     },
     "execution_count": 96,
     "metadata": {},
     "output_type": "execute_result"
    }
   ],
   "source": [
    "from itertools import chain\n",
    "def apply_to_seeds(ranges, maps):\n",
    "    return list(chain(*[split_range_and_map(r, maps) for r in ranges]))\n",
    "from functools import reduce\n",
    "def select_min_from_ranges(ranges: list):\n",
    "    return min([i.start for i in ranges])\n",
    "\n",
    "from collections import ChainMap\n",
    "\n",
    "def solution_2(text):\n",
    "    data = {i.split(':')[0]: i.split(':')[1].strip('\\n').split('\\n') for i in text.split('\\n\\n')}\n",
    "    seeds = [int(i) for i in data['seeds'][0].split()]\n",
    "    seed_ranges = []\n",
    "    for i in range(0, len(seeds), 2):\n",
    "        seed_ranges.append(range(seeds[i], seeds[i]+seeds[i+1])) \n",
    "    data_mappings = []\n",
    "    for key in data.keys():\n",
    "        if key == 'seeds': continue\n",
    "        data_mappings.append(\n",
    "        dict(ChainMap(*sorted([map_str_to_range(s) for s in data[key]], key = lambda x: list(x.keys())[0].start, reverse=True)))\n",
    "        )\n",
    "    return select_min_from_ranges(\n",
    "    reduce(apply_to_seeds, data_mappings, seed_ranges)\n",
    ")\n",
    "\n",
    "solution_2(text)"
   ]
  },
  {
   "cell_type": "code",
   "execution_count": null,
   "metadata": {},
   "outputs": [],
   "source": []
  },
  {
   "cell_type": "code",
   "execution_count": null,
   "metadata": {},
   "outputs": [],
   "source": []
  }
 ],
 "metadata": {
  "kernelspec": {
   "display_name": "data-science",
   "language": "python",
   "name": "python3"
  },
  "language_info": {
   "codemirror_mode": {
    "name": "ipython",
    "version": 3
   },
   "file_extension": ".py",
   "mimetype": "text/x-python",
   "name": "python",
   "nbconvert_exporter": "python",
   "pygments_lexer": "ipython3",
   "version": "3.12.0"
  }
 },
 "nbformat": 4,
 "nbformat_minor": 2
}
