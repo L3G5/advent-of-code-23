{
 "cells": [
  {
   "cell_type": "code",
   "execution_count": 1,
   "metadata": {},
   "outputs": [],
   "source": [
    "with open('input.txt') as f:\n",
    "    text = f.read().splitlines()"
   ]
  },
  {
   "cell_type": "code",
   "execution_count": 84,
   "metadata": {},
   "outputs": [],
   "source": [
    "test_text = \"\"\"467..114..\n",
    "...*......\n",
    "..35..633.\n",
    "......#...\n",
    "617*......\n",
    ".....+.58.\n",
    "..592.....\n",
    "......755.\n",
    "...$.*....\n",
    ".664.598..\"\"\".split('\\n')"
   ]
  },
  {
   "cell_type": "code",
   "execution_count": 4,
   "metadata": {},
   "outputs": [],
   "source": [
    "import re"
   ]
  },
  {
   "cell_type": "markdown",
   "metadata": {},
   "source": [
    "## part 1"
   ]
  },
  {
   "cell_type": "code",
   "execution_count": 52,
   "metadata": {},
   "outputs": [],
   "source": [
    "list_of_symbols = ['#', '$', '%', '&', '*', '+', '-', '/', '=', '@']\n",
    "class PositionalDigit:\n",
    "    def __init__(self, match, ver_span) -> None:\n",
    "        self.ver_span = ver_span\n",
    "        self.hor_span = match.span()\n",
    "        self.value = int(match.group())\n",
    "    def neighbours(self):\n",
    "        return [(j, i) for i in range(self.hor_span[0]-1, self.hor_span[1]+1) for j in range(self.ver_span-1, self.ver_span+2)]"
   ]
  },
  {
   "cell_type": "code",
   "execution_count": 110,
   "metadata": {},
   "outputs": [
    {
     "data": {
      "text/plain": [
       "509115"
      ]
     },
     "execution_count": 110,
     "metadata": {},
     "output_type": "execute_result"
    }
   ],
   "source": [
    "digits = []\n",
    "symbols = []\n",
    "for i, line in enumerate(text):\n",
    "# for i, line in enumerate(test_text):\n",
    "    cur_digits = list(re.finditer(r'\\d+', line))\n",
    "    digits.extend([PositionalDigit(cur, i) for cur in cur_digits])\n",
    "    cur_symbols = list(re.finditer(r'[#|$|%|&|\\*|\\+|\\-|/|=|@]', line))\n",
    "    symbols.extend([(i, match.span()[0]) for match in cur_symbols])\n",
    "sum([digit.value for digit in digits if any([i in symbols for i in digit.neighbours()])])"
   ]
  },
  {
   "cell_type": "markdown",
   "metadata": {},
   "source": [
    "## part 2"
   ]
  },
  {
   "cell_type": "code",
   "execution_count": 119,
   "metadata": {},
   "outputs": [],
   "source": [
    "list_of_symbols = ['#', '$', '%', '&', '*', '+', '-', '/', '=', '@']\n",
    "class PositionalDigit:\n",
    "    def __init__(self, match, ver_span) -> None:\n",
    "        self.ver_span = ver_span\n",
    "        self.hor_span = match.span()\n",
    "        self.value = int(match.group())\n",
    "        self.part = False\n",
    "    def neighbours(self):\n",
    "        return [(j, i) for i in range(self.hor_span[0]-1, self.hor_span[1]+1) for j in range(self.ver_span-1, self.ver_span+2)]\n",
    "\n",
    "class PossibleGear:\n",
    "    def __init__(self, match, ver_span) -> None:\n",
    "        self.index = (ver_span, match.span()[0])\n",
    "        self.adjacent_parts = []\n",
    "    def add_part(self, digit):\n",
    "        self.adjacent_parts.extend(digit)"
   ]
  },
  {
   "cell_type": "code",
   "execution_count": 122,
   "metadata": {},
   "outputs": [
    {
     "data": {
      "text/plain": [
       "75220503"
      ]
     },
     "execution_count": 122,
     "metadata": {},
     "output_type": "execute_result"
    }
   ],
   "source": [
    "digits = []\n",
    "symbols = []\n",
    "possible_gears= []\n",
    "for i, line in enumerate(text):\n",
    "# for i, line in enumerate(test_text):\n",
    "    cur_possible_gears = [PossibleGear(pos, i) for pos in re.finditer(r'\\*', line)]\n",
    "    possible_gears.extend(cur_possible_gears)\n",
    "    cur_digits = list(re.finditer(r'\\d+', line))\n",
    "    digits.extend([PositionalDigit(cur, i) for cur in cur_digits])\n",
    "    cur_symbols = list(re.finditer(r'[#|$|%|&|\\*|\\+|\\-|/|=|@]', line))\n",
    "    symbols.extend([(i, match.span()[0]) for match in cur_symbols])\n",
    "part_numbers = [digit for digit in digits if any([i in symbols for i in digit.neighbours()])]\n",
    "\n",
    "for part_number in part_numbers:\n",
    "    for possible_gear in possible_gears:\n",
    "        if possible_gear.index in part_number.neighbours():\n",
    "            possible_gear.add_part([part_number])\n",
    "\n",
    "gears = [possible_gear for possible_gear in possible_gears if len(possible_gear.adjacent_parts) == 2]\n",
    "sum(gear.adjacent_parts[0].value*gear.adjacent_parts[1].value for gear in gears)"
   ]
  },
  {
   "cell_type": "code",
   "execution_count": 117,
   "metadata": {},
   "outputs": [
    {
     "data": {
      "text/plain": [
       "[(1, 3), (4, 3), (8, 5)]"
      ]
     },
     "execution_count": 117,
     "metadata": {},
     "output_type": "execute_result"
    }
   ],
   "source": [
    "possible_gears"
   ]
  },
  {
   "cell_type": "code",
   "execution_count": null,
   "metadata": {},
   "outputs": [],
   "source": []
  }
 ],
 "metadata": {
  "kernelspec": {
   "display_name": "data-science",
   "language": "python",
   "name": "python3"
  },
  "language_info": {
   "codemirror_mode": {
    "name": "ipython",
    "version": 3
   },
   "file_extension": ".py",
   "mimetype": "text/x-python",
   "name": "python",
   "nbconvert_exporter": "python",
   "pygments_lexer": "ipython3",
   "version": "3.12.0"
  }
 },
 "nbformat": 4,
 "nbformat_minor": 2
}
