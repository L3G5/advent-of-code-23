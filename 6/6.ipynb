{
 "cells": [
  {
   "cell_type": "code",
   "execution_count": 18,
   "metadata": {},
   "outputs": [
    {
     "name": "stdout",
     "output_type": "stream",
     "text": [
      "['Time:      7  15   30', 'Distance:  9  40  200']\n",
      "['Time:        46     85     75     82', 'Distance:   208   1412   1257   1410']\n"
     ]
    }
   ],
   "source": [
    "with open('input.txt') as f:\n",
    "    text = f.read().split('\\n')\n",
    "with open('test.txt') as f:\n",
    "    text_test = f.read().split('\\n')\n",
    "print(text_test)\n",
    "print(text)\n",
    "\n"
   ]
  },
  {
   "cell_type": "markdown",
   "metadata": {},
   "source": [
    "## part 1"
   ]
  },
  {
   "cell_type": "markdown",
   "metadata": {},
   "source": [
    "$d = t_{hold}*(T-t_{hold})$"
   ]
  },
  {
   "cell_type": "code",
   "execution_count": 23,
   "metadata": {},
   "outputs": [
    {
     "name": "stdout",
     "output_type": "stream",
     "text": [
      "288\n",
      "1108800\n"
     ]
    }
   ],
   "source": [
    "def calc_dist(t, tmax):\n",
    "    return t*(tmax - t)\n",
    "\n",
    "def solution_1(text):\n",
    "    races = list(zip(*[list(map(int, i.split(': ')[1].split())) for i in text]))\n",
    "    cumprod = 1\n",
    "    for tmax, d in races:\n",
    "        cumprod*=sum([calc_dist(t, tmax) > d for t in range(tmax)])\n",
    "    return cumprod\n",
    "\n",
    "print(solution_1(text_test))\n",
    "print(solution_1(text))"
   ]
  },
  {
   "cell_type": "markdown",
   "metadata": {},
   "source": [
    "## part 2"
   ]
  },
  {
   "cell_type": "code",
   "execution_count": 35,
   "metadata": {},
   "outputs": [
    {
     "data": {
      "text/plain": [
       "[[46857582], [208141212571410]]"
      ]
     },
     "execution_count": 35,
     "metadata": {},
     "output_type": "execute_result"
    }
   ],
   "source": [
    "races = [list(map(int, i.split(': ')[1].replace(' ', '').split())) for i in text]\n",
    "races"
   ]
  },
  {
   "cell_type": "code",
   "execution_count": 39,
   "metadata": {},
   "outputs": [
    {
     "name": "stdout",
     "output_type": "stream",
     "text": [
      "71503\n",
      "36919753\n"
     ]
    }
   ],
   "source": [
    "from math import floor, ceil\n",
    "def solution_2(text):\n",
    "    ((t,), (d,)) = [list(map(int, i.split(': ')[1].replace(' ', '').split())) for i in text]\n",
    "    min = ceil(t/2 - (t**2/4-d)**(.5))\n",
    "    max = floor(t/2 + (t**2/4-d)**(.5))\n",
    "    return max - min +  1\n",
    "\n",
    "print(solution_2(text_test))\n",
    "print(solution_2(text))"
   ]
  },
  {
   "cell_type": "code",
   "execution_count": null,
   "metadata": {},
   "outputs": [],
   "source": []
  }
 ],
 "metadata": {
  "kernelspec": {
   "display_name": "data-science",
   "language": "python",
   "name": "python3"
  },
  "language_info": {
   "codemirror_mode": {
    "name": "ipython",
    "version": 3
   },
   "file_extension": ".py",
   "mimetype": "text/x-python",
   "name": "python",
   "nbconvert_exporter": "python",
   "pygments_lexer": "ipython3",
   "version": "3.12.0"
  }
 },
 "nbformat": 4,
 "nbformat_minor": 2
}
