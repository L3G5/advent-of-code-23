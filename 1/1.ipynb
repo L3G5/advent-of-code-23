{
 "cells": [
  {
   "cell_type": "code",
   "execution_count": 60,
   "metadata": {},
   "outputs": [],
   "source": [
    "with open('input.txt') as f:\n",
    "    text = f.read().splitlines()"
   ]
  },
  {
   "cell_type": "markdown",
   "metadata": {},
   "source": [
    "## part 1"
   ]
  },
  {
   "cell_type": "code",
   "execution_count": 61,
   "metadata": {},
   "outputs": [
    {
     "data": {
      "text/plain": [
       "56506"
      ]
     },
     "execution_count": 61,
     "metadata": {},
     "output_type": "execute_result"
    }
   ],
   "source": [
    "def find_digits(s: str):\n",
    "    only_digits = ''.join([(i if i.isnumeric() else '') for i in list(s)])\n",
    "    return(int(only_digits[0]+only_digits[-1]))\n",
    "sum([find_digits(s) for s in text])"
   ]
  },
  {
   "cell_type": "markdown",
   "metadata": {},
   "source": [
    "## part 2"
   ]
  },
  {
   "cell_type": "code",
   "execution_count": 62,
   "metadata": {},
   "outputs": [],
   "source": [
    "import re"
   ]
  },
  {
   "cell_type": "code",
   "execution_count": 75,
   "metadata": {},
   "outputs": [
    {
     "data": {
      "text/plain": [
       "56017"
      ]
     },
     "execution_count": 75,
     "metadata": {},
     "output_type": "execute_result"
    }
   ],
   "source": [
    "def filter_string(s: str):\n",
    "    # matches = re.finditer(r'one|two|three|four|five|six|seven|eight|nine|[0-9]', s)\n",
    "    # results = [int(match.group(1)) for match in matches]\n",
    "    # return ''.join(results)\n",
    "    # return ''.join(re.findall('one|two|three|four|five|six|seven|eight|nine|[0-9]', s))\n",
    "    return ''.join(re.findall('(?=(one|two|three|four|five|six|seven|eight|nine|[0-9]))', s))\n",
    "def change_letters_to_digits(s: str):\n",
    "    for sub, num in zip(['one', 'two', 'three', 'four', 'five', 'six', 'seven', 'eight', 'nine'], range(1, 10)):\n",
    "        s = s.replace(sub, str(num))\n",
    "    return s\n",
    "def find_digits_part_2(s: str):\n",
    "    only_digits = ''.join([(i if i.isnumeric() else '') for i in list(s)])\n",
    "    return(int(only_digits[0]+only_digits[-1]))\n",
    "sum([find_digits_part_2(change_letters_to_digits(filter_string(s))) for s in text])"
   ]
  },
  {
   "cell_type": "code",
   "execution_count": 67,
   "metadata": {},
   "outputs": [
    {
     "data": {
      "text/plain": [
       "55990"
      ]
     },
     "execution_count": 67,
     "metadata": {},
     "output_type": "execute_result"
    }
   ],
   "source": [
    "dict_to_change = dict(zip(['one', 'two', 'three', 'four', 'five', 'six', 'seven', 'eight', 'nine'], range(1, 10)))\n",
    "def change_letters_to_digits(s: str):\n",
    "    found_list = re.findall('one|two|three|four|five|six|seven|eight|nine', s)\n",
    "    while found_list:\n",
    "        s = s.replace(found_list[0], str(dict_to_change[found_list[0]]))\n",
    "        found_list = re.findall('one|two|three|four|five|six|seven|eight|nine', s)\n",
    "    return s\n",
    "def find_digits_part_2(s: str):\n",
    "    only_digits = ''.join([(i if i.isnumeric() else '') for i in list(s)])\n",
    "    return(int(only_digits[0]+only_digits[-1]))\n",
    "sum([find_digits_part_2(change_letters_to_digits(s)) for s in text])"
   ]
  },
  {
   "cell_type": "code",
   "execution_count": 68,
   "metadata": {},
   "outputs": [],
   "source": [
    "test_small =  \"\"\"two1nine\n",
    "eightwothree\n",
    "abcone2threexyz\n",
    "xtwone3four\n",
    "4nineeightseven2\n",
    "zoneight234\n",
    "7pqrstsixteen\"\"\".split()\n",
    "# sum([find_digits_part_2(change_letters_to_digits(filter_string(s))) for s in test_small])"
   ]
  },
  {
   "cell_type": "code",
   "execution_count": 71,
   "metadata": {},
   "outputs": [
    {
     "data": {
      "text/plain": [
       "['two1nine',\n",
       " 'eightthree',\n",
       " 'one2three',\n",
       " 'two3four',\n",
       " '4nineeightseven2',\n",
       " 'one234',\n",
       " '7six']"
      ]
     },
     "execution_count": 71,
     "metadata": {},
     "output_type": "execute_result"
    }
   ],
   "source": [
    "# [change_letters_to_digits(filter_string(s)) for s in test_small]\n",
    "[filter_string(s) for s in test_small]"
   ]
  },
  {
   "cell_type": "code",
   "execution_count": null,
   "metadata": {},
   "outputs": [],
   "source": [
    "'s.'.replace()"
   ]
  },
  {
   "cell_type": "code",
   "execution_count": 50,
   "metadata": {},
   "outputs": [
    {
     "data": {
      "text/plain": [
       "<re.Match object; span=(0, 3), match='two'>"
      ]
     },
     "execution_count": 50,
     "metadata": {},
     "output_type": "execute_result"
    }
   ],
   "source": [
    "re.search('one|two|three|four|five|six|seven|eight|nine|[0-9]', 'two1nineight')"
   ]
  },
  {
   "cell_type": "code",
   "execution_count": null,
   "metadata": {},
   "outputs": [],
   "source": []
  },
  {
   "cell_type": "code",
   "execution_count": null,
   "metadata": {},
   "outputs": [],
   "source": []
  }
 ],
 "metadata": {
  "kernelspec": {
   "display_name": "data-science",
   "language": "python",
   "name": "python3"
  },
  "language_info": {
   "codemirror_mode": {
    "name": "ipython",
    "version": 3
   },
   "file_extension": ".py",
   "mimetype": "text/x-python",
   "name": "python",
   "nbconvert_exporter": "python",
   "pygments_lexer": "ipython3",
   "version": "3.12.0"
  }
 },
 "nbformat": 4,
 "nbformat_minor": 2
}
