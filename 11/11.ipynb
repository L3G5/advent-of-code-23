{
 "cells": [
  {
   "cell_type": "code",
   "execution_count": 1,
   "metadata": {},
   "outputs": [
    {
     "name": "stdout",
     "output_type": "stream",
     "text": [
      "...#......\n",
      ".......#..\n",
      "#.........\n",
      "..........\n",
      "......#...\n",
      ".#........\n",
      ".........#\n",
      "..........\n",
      ".......#..\n",
      "#...#.....\n"
     ]
    }
   ],
   "source": [
    "with open('input.txt') as f:\n",
    "    text = f.read()\n",
    "with open('test1.txt') as f:\n",
    "    text_test1 = f.read()\n",
    "print(text_test1)\n",
    "# print(text)\n"
   ]
  },
  {
   "cell_type": "markdown",
   "metadata": {},
   "source": [
    "## part 1"
   ]
  },
  {
   "cell_type": "code",
   "execution_count": 21,
   "metadata": {},
   "outputs": [],
   "source": [
    "import numpy as np\n",
    "class Galaxy:\n",
    "    def __init__(self, text: str) -> None:\n",
    "        self.text = text\n",
    "        self.text2d = np.array([list(i) for i in text.split()])\n",
    "    def expand(self):\n",
    "        cols_to_expand = np.where((self.text2d == '.').prod(0)==1)[0].tolist()\n",
    "        rows_to_expand = np.where((self.text2d == '.').prod(1)==1)[0].tolist()\n",
    "        self.text2d_expanded = self.text2d.copy()\n",
    "        self.text2d_expanded = np.insert(self.text2d_expanded, cols_to_expand, '.', 1)\n",
    "        self.text2d_expanded = np.insert(self.text2d_expanded, rows_to_expand, '.', 0)\n",
    "        return self.text2d_expanded\n",
    "        "
   ]
  },
  {
   "cell_type": "code",
   "execution_count": 35,
   "metadata": {},
   "outputs": [
    {
     "data": {
      "text/plain": [
       "9609130"
      ]
     },
     "execution_count": 35,
     "metadata": {},
     "output_type": "execute_result"
    }
   ],
   "source": [
    "from itertools import combinations\n",
    "def distance(a, b):\n",
    "    return abs(a[0]-b[0])+abs(a[1]-b[1])\n",
    "def solution_1(text):\n",
    "    g = Galaxy(text)\n",
    "    star_indices = np.where(g.expand()=='#')\n",
    "    stars= list(zip(star_indices[0].tolist(),star_indices[1].tolist()))\n",
    "    return sum([distance(i, j) for i, j in combinations(stars, 2)])\n",
    "\n",
    "solution_1(text)"
   ]
  },
  {
   "cell_type": "markdown",
   "metadata": {},
   "source": [
    "## part 2"
   ]
  },
  {
   "cell_type": "code",
   "execution_count": 67,
   "metadata": {},
   "outputs": [],
   "source": [
    "import numpy as np\n",
    "\n",
    "def distance(a: tuple[int], b: tuple[int], n: int, rows: np.array, cols: np.array):\n",
    "    \"\"\"calculate distance between star a and star b in original coordinates\n",
    "\n",
    "    Args:\n",
    "        a (tuple[int]): first star\n",
    "        b (tuple[int]): second star\n",
    "        n (int): expansion factor\n",
    "        rows (np.array): rows which expanded\n",
    "        columns (np.array): columns which expanded\n",
    "\n",
    "    Returns:\n",
    "        int: sum of distances in expanded galaxy\n",
    "    \"\"\"\n",
    "    row_add = sum((rows>min(a[0], b[0]))&((rows<max(a[0], b[0]))))\n",
    "    col_add = sum((cols>min(a[1], b[1]))&((cols<max(a[1], b[1]))))\n",
    "    return abs(a[0]-b[0])+abs(a[1]-b[1]) + (n-1)*(row_add+col_add)\n",
    "\n",
    "class GalaxyFast:\n",
    "    def __init__(self, text: str) -> None:\n",
    "        self.text = text\n",
    "        self.text2d = np.array([list(i) for i in text.split()])\n",
    "    def expand_and_calculate_distances(self, n: int):\n",
    "        cols_to_expand = np.where((self.text2d == '.').prod(0)==1)[0]\n",
    "        rows_to_expand = np.where((self.text2d == '.').prod(1)==1)[0]\n",
    "        star_indices = np.where(self.text2d == '#')\n",
    "        stars= list(zip(star_indices[0].tolist(),star_indices[1].tolist()))\n",
    "        return sum([distance(i, j, n, rows=rows_to_expand, cols = cols_to_expand) for i, j in combinations(stars, 2)])"
   ]
  },
  {
   "cell_type": "code",
   "execution_count": 71,
   "metadata": {},
   "outputs": [
    {
     "name": "stdout",
     "output_type": "stream",
     "text": [
      "374\n",
      "1030\n",
      "8410\n",
      "702152204842\n"
     ]
    }
   ],
   "source": [
    "print(GalaxyFast(text_test1).expand_and_calculate_distances(2))\n",
    "print(GalaxyFast(text_test1).expand_and_calculate_distances(10))\n",
    "print(GalaxyFast(text_test1).expand_and_calculate_distances(100))\n",
    "print(GalaxyFast(text).expand_and_calculate_distances(1_000_000))"
   ]
  },
  {
   "cell_type": "code",
   "execution_count": null,
   "metadata": {},
   "outputs": [],
   "source": []
  }
 ],
 "metadata": {
  "kernelspec": {
   "display_name": "data-science",
   "language": "python",
   "name": "python3"
  },
  "language_info": {
   "codemirror_mode": {
    "name": "ipython",
    "version": 3
   },
   "file_extension": ".py",
   "mimetype": "text/x-python",
   "name": "python",
   "nbconvert_exporter": "python",
   "pygments_lexer": "ipython3",
   "version": "3.12.0"
  }
 },
 "nbformat": 4,
 "nbformat_minor": 2
}
