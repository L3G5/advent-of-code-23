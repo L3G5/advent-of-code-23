{
 "cells": [
  {
   "cell_type": "code",
   "execution_count": 1,
   "metadata": {},
   "outputs": [
    {
     "name": "stdout",
     "output_type": "stream",
     "text": [
      "???.### 1,1,3\n",
      ".??..??...?##. 1,1,3\n",
      "?#?#?#?#?#?#?#? 1,3,1,6\n",
      "????.#...#... 4,1,1\n",
      "????.######..#####. 1,6,5\n",
      "?###???????? 3,2,1\n"
     ]
    }
   ],
   "source": [
    "with open('input.txt') as f:\n",
    "    text = f.read()\n",
    "with open('test1.txt') as f:\n",
    "    text_test1 = f.read()\n",
    "print(text_test1)\n",
    "# print(text)\n"
   ]
  },
  {
   "cell_type": "markdown",
   "metadata": {},
   "source": [
    "## part 1"
   ]
  },
  {
   "cell_type": "code",
   "execution_count": 63,
   "metadata": {},
   "outputs": [],
   "source": [
    "from collections import Counter\n",
    "from itertools import combinations\n",
    "from re import finditer\n",
    "import numpy as np\n",
    "\n",
    "def check_criteria(string: np.array, criteria: list[int]):\n",
    "    sub_lengths = []\n",
    "    prev = '?'\n",
    "    cur_length = 0\n",
    "    for i in range(len(string)):\n",
    "        if string[i] == '#':\n",
    "            cur_length += 1\n",
    "        elif cur_length != 0:\n",
    "            sub_lengths.append(cur_length)\n",
    "            cur_length = 0\n",
    "    if cur_length != 0:\n",
    "        sub_lengths.append(cur_length)\n",
    "    if sub_lengths == criteria:\n",
    "        return True\n",
    "    return False\n",
    "\n",
    "def count_arrangements(string: str, criteria: list[int]):\n",
    "    symbols = Counter(string)\n",
    "    choices = [i.span()[0] for i in finditer(r'\\?', string)]\n",
    "    choose = sum(criteria)-symbols['#']\n",
    "    valid_arrangements = 0\n",
    "    st =list(string)\n",
    "    for indices in combinations(choices, choose):\n",
    "        lst = np.array(st)\n",
    "        for i in indices:\n",
    "            lst[i] = '#'\n",
    "        if check_criteria(lst, criteria): valid_arrangements += 1\n",
    "    return(valid_arrangements)\n",
    "    "
   ]
  },
  {
   "cell_type": "code",
   "execution_count": 70,
   "metadata": {},
   "outputs": [
    {
     "name": "stdout",
     "output_type": "stream",
     "text": [
      "21\n",
      "8419\n"
     ]
    }
   ],
   "source": [
    "def solution_1(text):\n",
    "    records = [[i.split()[0], list(map(int, i.split()[1].split(',')))] for i in text.split('\\n')]\n",
    "    return sum([count_arrangements(i, j) for i,j in records])\n",
    "\n",
    "print(solution_1(text_test1))\n",
    "print(solution_1(text))"
   ]
  },
  {
   "cell_type": "markdown",
   "metadata": {},
   "source": [
    "## part 2"
   ]
  },
  {
   "cell_type": "code",
   "execution_count": null,
   "metadata": {},
   "outputs": [],
   "source": []
  }
 ],
 "metadata": {
  "kernelspec": {
   "display_name": "data-science",
   "language": "python",
   "name": "python3"
  },
  "language_info": {
   "codemirror_mode": {
    "name": "ipython",
    "version": 3
   },
   "file_extension": ".py",
   "mimetype": "text/x-python",
   "name": "python",
   "nbconvert_exporter": "python",
   "pygments_lexer": "ipython3",
   "version": "3.12.0"
  }
 },
 "nbformat": 4,
 "nbformat_minor": 2
}
