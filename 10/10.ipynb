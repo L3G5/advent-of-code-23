{
 "cells": [
  {
   "cell_type": "code",
   "execution_count": 126,
   "metadata": {},
   "outputs": [
    {
     "name": "stdout",
     "output_type": "stream",
     "text": [
      ".....\n",
      ".S-7.\n",
      ".|.|.\n",
      ".L-J.\n",
      ".....\n",
      "..F7.\n",
      ".FJ|.\n",
      "SJ.L7\n",
      "|F--J\n",
      "LJ...\n"
     ]
    }
   ],
   "source": [
    "with open('input.txt') as f:\n",
    "    text = f.read()\n",
    "with open('test1.txt') as f:\n",
    "    text_test1 = f.read()\n",
    "with open('test2.txt') as f:\n",
    "    text_test2 = f.read()\n",
    "print(text_test1)\n",
    "print(text_test2)\n",
    "# print(text)\n"
   ]
  },
  {
   "cell_type": "markdown",
   "metadata": {},
   "source": [
    "## part 1"
   ]
  },
  {
   "cell_type": "code",
   "execution_count": 8,
   "metadata": {},
   "outputs": [],
   "source": [
    "import numpy as np\n",
    "\n",
    "pipe_to_connect = {\n",
    "    '|': [[1, 0], [-1, 0]], \n",
    "    '-': [[0, 1], [0, -1]], \n",
    "    'L': [[-1, 0], [0, 1]], \n",
    "    'J': [[-1, 0], [0, -1]],  \n",
    "    '7': [[1, 0], [0, -1]],  \n",
    "    'F': [[1, 0], [0, 1]], \n",
    "    '.': [[0, 0]],\n",
    "    # 'S': [[0, 0]]\n",
    "    } \n",
    "\n",
    "\n",
    "class Pipe:\n",
    "    def __init__(self, pos, symbol) -> None:\n",
    "        self.pos = pos\n",
    "        self.symbol = symbol\n",
    "    def connected(self, pos):\n",
    "        \"\"\"test whether pipe is connected to pos\"\"\"\n",
    "        if list(pos) in [list(self.pos + i) for i in pipe_to_connect[self.symbol]]:\n",
    "            return True\n",
    "        return False\n",
    "    def pass_pipe(self, start):\n",
    "        \"\"\"returns where one gets after passing the pipe\"\"\"\n",
    "        sstart = [-start[0], -start[1]]\n",
    "        if (sstart) not in pipe_to_connect[self.symbol]:\n",
    "            Exception('sus')\n",
    "        else: \n",
    "            get_to = [i for i in pipe_to_connect[self.symbol] if i != sstart][0]\n",
    "            # print(f'{get_to=}')\n",
    "            return get_to\n",
    "\n",
    "class Field:\n",
    "    def __init__(self, text) -> None:\n",
    "        self.grid = np.array([list(i) for i in text.split()])\n",
    "        self.bug_pos = np.concatenate(np.where(self.grid == 'S'))\n",
    "        self.cur_pos = np.concatenate(np.where(self.grid == 'S'))\n",
    "        for delta in [(-1, 0), (1, 0), (0, -1), (0, 1)]:\n",
    "            try: \n",
    "                neighbour = Pipe(self.bug_pos+delta,self.grid[*(self.bug_pos+delta)])\n",
    "                # print(neighbour.pos, neighbour.symbol)\n",
    "                if neighbour.connected(self.bug_pos):\n",
    "                    self.next_pos = self.bug_pos + delta\n",
    "                    break\n",
    "            except:\n",
    "                pass\n",
    "    def round_the_pipes(self):\n",
    "        \"\"\"go around the pipes till coming back to bug_pos\"\"\"\n",
    "        ans = 0\n",
    "        while not (self.bug_pos == self.next_pos).all():\n",
    "            p = Pipe(self.next_pos,self.grid[*(self.next_pos)])\n",
    "            # print(p.symbol, p.pos)\n",
    "            delta = p.pass_pipe(list(self.next_pos-self.cur_pos))\n",
    "            self.cur_pos, self.next_pos = self.next_pos, self.next_pos+delta\n",
    "            ans += 1\n",
    "        return ans"
   ]
  },
  {
   "cell_type": "code",
   "execution_count": 9,
   "metadata": {},
   "outputs": [
    {
     "name": "stdout",
     "output_type": "stream",
     "text": [
      "..F7.\n",
      ".FJ|.\n",
      "SJ.L7\n",
      "|F--J\n",
      "LJ... \n",
      "\n",
      "7.5 \n",
      "\n",
      "6908.5\n"
     ]
    }
   ],
   "source": [
    "def solution_1(text):\n",
    "    field = Field(text)\n",
    "    ans = field.round_the_pipes()\n",
    "    return ans\n",
    "# print(text_test1, '\\n')\n",
    "# print(solution_1(text_test1)/2., '\\n')\n",
    "print(text_test2, '\\n')\n",
    "print(solution_1(text_test2)/2, '\\n')\n",
    "print(solution_1(text)/2.)"
   ]
  },
  {
   "cell_type": "code",
   "execution_count": 89,
   "metadata": {},
   "outputs": [
    {
     "data": {
      "text/plain": [
       "False"
      ]
     },
     "execution_count": 89,
     "metadata": {},
     "output_type": "execute_result"
    }
   ],
   "source": [
    "[1, 1]==[2, 1]"
   ]
  },
  {
   "cell_type": "markdown",
   "metadata": {},
   "source": [
    "## part 2"
   ]
  },
  {
   "cell_type": "code",
   "execution_count": 125,
   "metadata": {},
   "outputs": [
    {
     "name": "stdout",
     "output_type": "stream",
     "text": [
      "...........\n",
      ".S-------7.\n",
      ".|F-----7|.\n",
      ".||.....||.\n",
      ".||.....||.\n",
      ".|L-7.F-J|.\n",
      ".|..|.|..|.\n",
      ".L--J.L--J.\n",
      "........... \n",
      "\n",
      ".F----7F7F7F7F-7....\n",
      ".|F--7||||||||FJ....\n",
      ".||.FJ||||||||L7....\n",
      "FJL7L7LJLJ||LJ.L-7..\n",
      "L--J.L7...LJS7F-7L7.\n",
      "....F-J..F7FJ|L7L7L7\n",
      "....L7.F7||L7|.L7L7|\n",
      ".....|FJLJ|FJ|F7|.LJ\n",
      "....FJL-7.||.||||...\n",
      "....L---J.LJ.LJLJ...\n"
     ]
    }
   ],
   "source": [
    "with open('test3.txt') as f:\n",
    "    text_test3 = f.read()\n",
    "with open('test4.txt') as f:\n",
    "    text_test4 = f.read()\n",
    "print(text_test3, '\\n')\n",
    "print(text_test4)\n"
   ]
  },
  {
   "cell_type": "code",
   "execution_count": 20,
   "metadata": {},
   "outputs": [],
   "source": [
    "class Field:\n",
    "    def __init__(self, text) -> None:\n",
    "        self.grid = np.array([list(i) for i in text.split()])\n",
    "        self.bug_pos = np.concatenate(np.where(self.grid == 'S'))\n",
    "        self.cur_pos = np.concatenate(np.where(self.grid == 'S'))\n",
    "        for delta in [(-1, 0), (1, 0), (0, -1), (0, 1)]:\n",
    "            try: \n",
    "                neighbour = Pipe(self.bug_pos+delta,self.grid[*(self.bug_pos+delta)])\n",
    "                # print(neighbour.pos, neighbour.symbol)\n",
    "                if neighbour.connected(self.bug_pos):\n",
    "                    self.next_pos = self.bug_pos + delta\n",
    "                    break\n",
    "            except:\n",
    "                pass\n",
    "    def round_the_pipes(self):\n",
    "        \"\"\"go around the pipes till coming back to bug_pos\"\"\"\n",
    "        ans = [[self.cur_pos, 'S']]\n",
    "        while not (self.bug_pos == self.next_pos).all():\n",
    "            ans.append([self.next_pos, self.grid[*(self.next_pos)]])\n",
    "            p = Pipe(self.next_pos,self.grid[*(self.next_pos)])\n",
    "            # print(p.symbol, p.pos)\n",
    "            delta = p.pass_pipe(list(self.next_pos-self.cur_pos))\n",
    "            self.cur_pos, self.next_pos = self.next_pos, self.next_pos+delta\n",
    "        return ans"
   ]
  },
  {
   "cell_type": "code",
   "execution_count": 181,
   "metadata": {},
   "outputs": [],
   "source": [
    "from itertools import batched\n",
    "from time import sleep\n",
    "def fix_S_type(relevant_pipes):\n",
    "    for s in pipe_to_connect.keys():\n",
    "        p = Pipe(relevant_pipes[0][0], s)\n",
    "        if p.connected(relevant_pipes[1][0]) & (p.connected(relevant_pipes[-1][0])):\n",
    "            relevant_pipes[0][1] = s\n",
    "\n",
    "def fix_corner_types(relevant_pipes):\n",
    "    for p in relevant_pipes:\n",
    "        if p[1] in ['F', 'L']:\n",
    "            p[1] = '|'\n",
    "\n",
    "# def solution_2(text):\n",
    "#     field = Field(text)\n",
    "#     relevant_pipes = field.round_the_pipes()\n",
    "\n",
    "#     fix_S_type(relevant_pipes)\n",
    "#     # fix_corner_types(relevant_pipes)\n",
    "\n",
    "#     pipes_up = sorted([[list(i[0]), i[1]] for i in filter(lambda x: (x[1] in ['|', 'L', 'F', '7', 'J']), relevant_pipes)], key = lambda x: (x[0], x[1]))\n",
    "#     relevant_pipes_places = [list(i[0]) for i in relevant_pipes]\n",
    "#     grid = np.array([list(i) for i in text.split()])\n",
    "#     # print(grid)\n",
    "#     # for i in pipes_up:\n",
    "#     #     grid[*list(i)] = '||'\n",
    "#     shapes = grid.shape\n",
    "#     ans = 0\n",
    "#     for row in range(shapes[0]):\n",
    "#         pipes_up_row = [i for i in pipes_up if i[0][0] == row]\n",
    "#         print(pipes_up_row)\n",
    "#         i = 0\n",
    "#         while i < (len(pipes_up_row)-1):\n",
    "#             # print(i, pipes_up_row[i])\n",
    "#             # sleep(1)\n",
    "#             if pipes_up_row[i][1] in ['|', 'L', 'F']:\n",
    "#                 for col in range(pipes_up_row[i][0][1]+1, pipes_up_row[i+1][0][1]):\n",
    "#                     # print(row, col)\n",
    "#                     if [row, col] not in relevant_pipes_places:\n",
    "#                         # print('!')\n",
    "#                         grid[row, col] = 'x'\n",
    "#                         ans += 1\n",
    "#                     # else: print('.')\n",
    "#                     col += 1\n",
    "#                 i += 2\n",
    "#             else: \n",
    "#                 i+= 1\n",
    "\n",
    "#         # for i, j in zip(pipes_up_row, pipes_up_row[1:]):\n",
    "#         #     if i not in ['F', 'J', 'L', '7']\n",
    "#         #     for col in range(i[1]+1, j[1]):\n",
    "#         #         if [row, col] not in relevant_pipes_places:\n",
    "#         #             grid[row, col] = '0'\n",
    "#         #             ans += 1\n",
    "#     return grid, ans\n",
    "\n",
    "def solution_2(text):\n",
    "    field = Field(text)\n",
    "    relevant_pipes = field.round_the_pipes()\n",
    "    fix_S_type(relevant_pipes)\n",
    "    pipes_up = sorted([[list(i[0]), i[1]] for i in filter(lambda x: (x[1] in ['|', 'L', 'F', '7', 'J']), relevant_pipes)], key = lambda x: (x[0], x[1]))\n",
    "    print(pipes_up)\n",
    "    relevant_pipes_places = [list(i[0]) for i in relevant_pipes]\n",
    "    grid = np.array([list(i) for i in text.split()])\n",
    "    shapes = grid.shape\n",
    "    ans = 0\n",
    "    for row in range(shapes[0]):\n",
    "        pipes_up_row = [i for i in pipes_up if i[0][0] == row]\n",
    "        print(pipes_up_row)\n",
    "        i = 0\n",
    "        while i < (len(pipes_up_row)-1):\n",
    "            print(i)\n",
    "            if pipes_up_row[i][1] in ['|', 'J', '7']:\n",
    "                for col in range(pipes_up_row[i][0][1]+1, pipes_up_row[i+1][0][1]):\n",
    "                    if [row, col] not in relevant_pipes_places:\n",
    "                        grid[row, col] = 'x'\n",
    "                        ans += 1\n",
    "                    col += 1\n",
    "                if pipes_up_row[i+1][1] in ['L', 'F']:\n",
    "                    i += 3\n",
    "                else:\n",
    "                    i += 2\n",
    "            else: \n",
    "                i+= 2\n",
    "    return grid, ans"
   ]
  },
  {
   "cell_type": "code",
   "execution_count": 186,
   "metadata": {},
   "outputs": [
    {
     "name": "stdout",
     "output_type": "stream",
     "text": [
      "[[[1, 1], 'F'], [[1, 9], '7'], [[2, 1], '|'], [[2, 2], 'F'], [[2, 8], '7'], [[2, 9], '|'], [[3, 1], '|'], [[3, 2], '|'], [[3, 8], '|'], [[3, 9], '|'], [[4, 1], '|'], [[4, 2], '|'], [[4, 8], '|'], [[4, 9], '|'], [[5, 1], '|'], [[5, 2], 'L'], [[5, 4], '7'], [[5, 6], 'F'], [[5, 8], 'J'], [[5, 9], '|'], [[6, 1], '|'], [[6, 4], '|'], [[6, 6], '|'], [[6, 9], '|'], [[7, 1], 'L'], [[7, 4], 'J'], [[7, 6], 'L'], [[7, 9], 'J']]\n",
      "[]\n",
      "[[[1, 1], 'F'], [[1, 9], '7']]\n",
      "0\n",
      "[[[2, 1], '|'], [[2, 2], 'F'], [[2, 8], '7'], [[2, 9], '|']]\n",
      "0\n",
      "[[[3, 1], '|'], [[3, 2], '|'], [[3, 8], '|'], [[3, 9], '|']]\n",
      "0\n",
      "2\n",
      "[[[4, 1], '|'], [[4, 2], '|'], [[4, 8], '|'], [[4, 9], '|']]\n",
      "0\n",
      "2\n",
      "[[[5, 1], '|'], [[5, 2], 'L'], [[5, 4], '7'], [[5, 6], 'F'], [[5, 8], 'J'], [[5, 9], '|']]\n",
      "0\n",
      "3\n",
      "[[[6, 1], '|'], [[6, 4], '|'], [[6, 6], '|'], [[6, 9], '|']]\n",
      "0\n",
      "2\n",
      "[[[7, 1], 'L'], [[7, 4], 'J'], [[7, 6], 'L'], [[7, 9], 'J']]\n",
      "0\n",
      "2\n",
      "[]\n",
      "4\n",
      "...........\n",
      ".S-------7.\n",
      ".|F-----7|.\n",
      ".||.....||.\n",
      ".||.....||.\n",
      ".|L-7.F-J|.\n",
      ".|xx|.|xx|.\n",
      ".L--J.L--J.\n",
      "...........\n"
     ]
    }
   ],
   "source": [
    "grid, ans = solution_2(text_test3)\n",
    "print(ans)\n",
    "print('\\n'.join(([''.join(i) for i in grid.tolist()])))\n"
   ]
  },
  {
   "cell_type": "code",
   "execution_count": 182,
   "metadata": {},
   "outputs": [
    {
     "name": "stdout",
     "output_type": "stream",
     "text": [
      ".F----7F7F7F7F-7....\n",
      ".|F--7||||||||FJ....\n",
      ".||.FJ||||||||L7....\n",
      "FJL7L7LJLJ||LJ.L-7..\n",
      "L--J.L7...LJS7F-7L7.\n",
      "....F-J..F7FJ|L7L7L7\n",
      "....L7.F7||L7|.L7L7|\n",
      ".....|FJLJ|FJ|F7|.LJ\n",
      "....FJL-7.||.||||...\n",
      "....L---J.LJ.LJLJ...\n"
     ]
    }
   ],
   "source": [
    "print(text_test4)\n"
   ]
  },
  {
   "cell_type": "code",
   "execution_count": 187,
   "metadata": {},
   "outputs": [
    {
     "name": "stdout",
     "output_type": "stream",
     "text": [
      "[[[0, 1], 'F'], [[0, 6], '7'], [[0, 7], 'F'], [[0, 8], '7'], [[0, 9], 'F'], [[0, 10], '7'], [[0, 11], 'F'], [[0, 12], '7'], [[0, 13], 'F'], [[0, 15], '7'], [[1, 1], '|'], [[1, 2], 'F'], [[1, 5], '7'], [[1, 6], '|'], [[1, 7], '|'], [[1, 8], '|'], [[1, 9], '|'], [[1, 10], '|'], [[1, 11], '|'], [[1, 12], '|'], [[1, 13], '|'], [[1, 14], 'F'], [[1, 15], 'J'], [[2, 1], '|'], [[2, 2], '|'], [[2, 4], 'F'], [[2, 5], 'J'], [[2, 6], '|'], [[2, 7], '|'], [[2, 8], '|'], [[2, 9], '|'], [[2, 10], '|'], [[2, 11], '|'], [[2, 12], '|'], [[2, 13], '|'], [[2, 14], 'L'], [[2, 15], '7'], [[3, 0], 'F'], [[3, 1], 'J'], [[3, 2], 'L'], [[3, 3], '7'], [[3, 4], 'L'], [[3, 5], '7'], [[3, 6], 'L'], [[3, 7], 'J'], [[3, 8], 'L'], [[3, 9], 'J'], [[3, 10], '|'], [[3, 11], '|'], [[3, 12], 'L'], [[3, 13], 'J'], [[3, 15], 'L'], [[3, 17], '7'], [[4, 0], 'L'], [[4, 3], 'J'], [[4, 5], 'L'], [[4, 6], '7'], [[4, 10], 'L'], [[4, 11], 'J'], [[4, 12], 'F'], [[4, 13], '7'], [[4, 14], 'F'], [[4, 16], '7'], [[4, 17], 'L'], [[4, 18], '7'], [[5, 4], 'F'], [[5, 6], 'J'], [[5, 9], 'F'], [[5, 10], '7'], [[5, 11], 'F'], [[5, 12], 'J'], [[5, 13], '|'], [[5, 14], 'L'], [[5, 15], '7'], [[5, 16], 'L'], [[5, 17], '7'], [[5, 18], 'L'], [[5, 19], '7'], [[6, 4], 'L'], [[6, 5], '7'], [[6, 7], 'F'], [[6, 8], '7'], [[6, 9], '|'], [[6, 10], '|'], [[6, 11], 'L'], [[6, 12], '7'], [[6, 13], '|'], [[6, 15], 'L'], [[6, 16], '7'], [[6, 17], 'L'], [[6, 18], '7'], [[6, 19], '|'], [[7, 5], '|'], [[7, 6], 'F'], [[7, 7], 'J'], [[7, 8], 'L'], [[7, 9], 'J'], [[7, 10], '|'], [[7, 11], 'F'], [[7, 12], 'J'], [[7, 13], '|'], [[7, 14], 'F'], [[7, 15], '7'], [[7, 16], '|'], [[7, 18], 'L'], [[7, 19], 'J'], [[8, 4], 'F'], [[8, 5], 'J'], [[8, 6], 'L'], [[8, 8], '7'], [[8, 10], '|'], [[8, 11], '|'], [[8, 13], '|'], [[8, 14], '|'], [[8, 15], '|'], [[8, 16], '|'], [[9, 4], 'L'], [[9, 8], 'J'], [[9, 10], 'L'], [[9, 11], 'J'], [[9, 13], 'L'], [[9, 14], 'J'], [[9, 15], 'L'], [[9, 16], 'J']]\n",
      "[[[0, 1], 'F'], [[0, 6], '7'], [[0, 7], 'F'], [[0, 8], '7'], [[0, 9], 'F'], [[0, 10], '7'], [[0, 11], 'F'], [[0, 12], '7'], [[0, 13], 'F'], [[0, 15], '7']]\n",
      "0\n",
      "2\n",
      "4\n",
      "6\n",
      "8\n",
      "[[[1, 1], '|'], [[1, 2], 'F'], [[1, 5], '7'], [[1, 6], '|'], [[1, 7], '|'], [[1, 8], '|'], [[1, 9], '|'], [[1, 10], '|'], [[1, 11], '|'], [[1, 12], '|'], [[1, 13], '|'], [[1, 14], 'F'], [[1, 15], 'J']]\n",
      "0\n",
      "3\n",
      "5\n",
      "7\n",
      "9\n",
      "11\n",
      "[[[2, 1], '|'], [[2, 2], '|'], [[2, 4], 'F'], [[2, 5], 'J'], [[2, 6], '|'], [[2, 7], '|'], [[2, 8], '|'], [[2, 9], '|'], [[2, 10], '|'], [[2, 11], '|'], [[2, 12], '|'], [[2, 13], '|'], [[2, 14], 'L'], [[2, 15], '7']]\n",
      "0\n",
      "2\n",
      "4\n",
      "6\n",
      "8\n",
      "10\n",
      "12\n",
      "[[[3, 0], 'F'], [[3, 1], 'J'], [[3, 2], 'L'], [[3, 3], '7'], [[3, 4], 'L'], [[3, 5], '7'], [[3, 6], 'L'], [[3, 7], 'J'], [[3, 8], 'L'], [[3, 9], 'J'], [[3, 10], '|'], [[3, 11], '|'], [[3, 12], 'L'], [[3, 13], 'J'], [[3, 15], 'L'], [[3, 17], '7']]\n",
      "0\n",
      "2\n",
      "4\n",
      "6\n",
      "8\n",
      "10\n",
      "12\n",
      "14\n",
      "[[[4, 0], 'L'], [[4, 3], 'J'], [[4, 5], 'L'], [[4, 6], '7'], [[4, 10], 'L'], [[4, 11], 'J'], [[4, 12], 'F'], [[4, 13], '7'], [[4, 14], 'F'], [[4, 16], '7'], [[4, 17], 'L'], [[4, 18], '7']]\n",
      "0\n",
      "2\n",
      "4\n",
      "6\n",
      "8\n",
      "10\n",
      "[[[5, 4], 'F'], [[5, 6], 'J'], [[5, 9], 'F'], [[5, 10], '7'], [[5, 11], 'F'], [[5, 12], 'J'], [[5, 13], '|'], [[5, 14], 'L'], [[5, 15], '7'], [[5, 16], 'L'], [[5, 17], '7'], [[5, 18], 'L'], [[5, 19], '7']]\n",
      "0\n",
      "2\n",
      "4\n",
      "6\n",
      "9\n",
      "11\n",
      "[[[6, 4], 'L'], [[6, 5], '7'], [[6, 7], 'F'], [[6, 8], '7'], [[6, 9], '|'], [[6, 10], '|'], [[6, 11], 'L'], [[6, 12], '7'], [[6, 13], '|'], [[6, 15], 'L'], [[6, 16], '7'], [[6, 17], 'L'], [[6, 18], '7'], [[6, 19], '|']]\n",
      "0\n",
      "2\n",
      "4\n",
      "6\n",
      "8\n",
      "11\n",
      "[[[7, 5], '|'], [[7, 6], 'F'], [[7, 7], 'J'], [[7, 8], 'L'], [[7, 9], 'J'], [[7, 10], '|'], [[7, 11], 'F'], [[7, 12], 'J'], [[7, 13], '|'], [[7, 14], 'F'], [[7, 15], '7'], [[7, 16], '|'], [[7, 18], 'L'], [[7, 19], 'J']]\n",
      "0\n",
      "3\n",
      "5\n",
      "8\n",
      "11\n",
      "[[[8, 4], 'F'], [[8, 5], 'J'], [[8, 6], 'L'], [[8, 8], '7'], [[8, 10], '|'], [[8, 11], '|'], [[8, 13], '|'], [[8, 14], '|'], [[8, 15], '|'], [[8, 16], '|']]\n",
      "0\n",
      "2\n",
      "4\n",
      "6\n",
      "8\n",
      "[[[9, 4], 'L'], [[9, 8], 'J'], [[9, 10], 'L'], [[9, 11], 'J'], [[9, 13], 'L'], [[9, 14], 'J'], [[9, 15], 'L'], [[9, 16], 'J']]\n",
      "0\n",
      "2\n",
      "4\n",
      "6\n",
      "2\n",
      ".F----7F7F7F7F-7....\n",
      ".|F--7||||||||FJ....\n",
      ".||.FJ||||||||L7....\n",
      "FJL7L7LJLJ||LJ.L-7..\n",
      "L--J.L7...LJS7F-7L7.\n",
      "....F-J..F7FJ|L7L7L7\n",
      "....L7.F7||L7|xL7L7|\n",
      ".....|FJLJ|FJ|F7|xLJ\n",
      "....FJL-7.||.||||...\n",
      "....L---J.LJ.LJLJ...\n"
     ]
    }
   ],
   "source": [
    "grid, ans = solution_2(text_test4)\n",
    "print(ans)\n",
    "print('\\n'.join(([''.join(i) for i in grid.tolist()])))"
   ]
  },
  {
   "cell_type": "markdown",
   "metadata": {},
   "source": [
    "## part 2 (real): Pick's formula"
   ]
  },
  {
   "cell_type": "code",
   "execution_count": 202,
   "metadata": {},
   "outputs": [],
   "source": [
    "from itertools import batched\n",
    "from time import sleep\n",
    "def fix_S_type(relevant_pipes):\n",
    "    for s in pipe_to_connect.keys():\n",
    "        p = Pipe(relevant_pipes[0][0], s)\n",
    "        if p.connected(relevant_pipes[1][0]) & (p.connected(relevant_pipes[-1][0])):\n",
    "            relevant_pipes[0][1] = s\n",
    "\n",
    "def fix_corner_types(relevant_pipes):\n",
    "    for p in relevant_pipes:\n",
    "        if p[1] in ['F', 'L']:\n",
    "            p[1] = '|'\n",
    "\n",
    "class Field:\n",
    "    def __init__(self, text) -> None:\n",
    "        self.grid = np.array([list(i) for i in text.split()])\n",
    "        self.bug_pos = np.concatenate(np.where(self.grid == 'S'))\n",
    "        self.cur_pos = np.concatenate(np.where(self.grid == 'S'))\n",
    "        for delta in [(-1, 0), (1, 0), (0, -1), (0, 1)]:\n",
    "            try: \n",
    "                neighbour = Pipe(self.bug_pos+delta,self.grid[*(self.bug_pos+delta)])\n",
    "                # print(neighbour.pos, neighbour.symbol)\n",
    "                if neighbour.connected(self.bug_pos):\n",
    "                    self.next_pos = self.bug_pos + delta\n",
    "                    break\n",
    "            except:\n",
    "                pass\n",
    "    def round_the_pipes(self):\n",
    "        \"\"\"go around the pipes till coming back to bug_pos; count vertices and calculate area\"\"\"\n",
    "        ans = [[self.cur_pos, 'S']]\n",
    "        area = (self.cur_pos[0]*self.next_pos[1] - self.cur_pos[1]*self.next_pos[0])/2\n",
    "        while not (self.bug_pos == self.next_pos).all():\n",
    "            ans.append([self.next_pos, self.grid[*(self.next_pos)]])\n",
    "            p = Pipe(self.next_pos,self.grid[*(self.next_pos)])\n",
    "            # print(p.symbol, p.pos)\n",
    "            delta = p.pass_pipe(list(self.next_pos-self.cur_pos))\n",
    "            self.cur_pos, self.next_pos = self.next_pos, self.next_pos+delta\n",
    "            area += (self.cur_pos[0]*self.next_pos[1] - self.cur_pos[1]*self.next_pos[0])/2.\n",
    "        return ans, abs(area)\n",
    "\n",
    "def solution_2(text):\n",
    "    field = Field(text)\n",
    "    relevant_pipes, area = field.round_the_pipes()\n",
    "    print(len(relevant_pipes), area)\n",
    "    return (area-len(relevant_pipes)/2+1)"
   ]
  },
  {
   "cell_type": "code",
   "execution_count": 203,
   "metadata": {},
   "outputs": [
    {
     "name": "stdout",
     "output_type": "stream",
     "text": [
      "46 26.0\n",
      "4.0\n",
      "140 77.0\n",
      "8.0\n",
      "13818 7369.0\n",
      "461.0\n"
     ]
    }
   ],
   "source": [
    "print(solution_2(text_test3))\n",
    "print(solution_2(text_test4))\n",
    "print(solution_2(text))"
   ]
  },
  {
   "cell_type": "code",
   "execution_count": null,
   "metadata": {},
   "outputs": [],
   "source": []
  },
  {
   "cell_type": "code",
   "execution_count": null,
   "metadata": {},
   "outputs": [],
   "source": []
  }
 ],
 "metadata": {
  "kernelspec": {
   "display_name": "data-science",
   "language": "python",
   "name": "python3"
  },
  "language_info": {
   "codemirror_mode": {
    "name": "ipython",
    "version": 3
   },
   "file_extension": ".py",
   "mimetype": "text/x-python",
   "name": "python",
   "nbconvert_exporter": "python",
   "pygments_lexer": "ipython3",
   "version": "3.12.0"
  }
 },
 "nbformat": 4,
 "nbformat_minor": 2
}
